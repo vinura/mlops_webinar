{
  "cells": [
    {
      "cell_type": "markdown",
      "metadata": {
        "id": "eJG7dIdJMyy-"
      },
      "source": [
        "# MLOps Practical Session"
      ]
    },
    {
      "cell_type": "markdown",
      "metadata": {
        "id": "nsNyp9b0Myy_"
      },
      "source": [
        "## Installing Packages"
      ]
    },
    {
      "cell_type": "code",
      "execution_count": null,
      "metadata": {
        "colab": {
          "base_uri": "https://localhost:8080/"
        },
        "id": "M99Ri6xBBOcp",
        "outputId": "e8ed37a3-4971-49fa-f290-b2d4b5a99a40"
      },
      "outputs": [
        {
          "output_type": "stream",
          "name": "stdout",
          "text": [
            "\u001b[2K     \u001b[90m━━━━━━━━━━━━━━━━━━━━━━━━━━━━━━━━━━━━━━━━\u001b[0m \u001b[32m19.0/19.0 MB\u001b[0m \u001b[31m31.8 MB/s\u001b[0m eta \u001b[36m0:00:00\u001b[0m\n",
            "\u001b[2K     \u001b[90m━━━━━━━━━━━━━━━━━━━━━━━━━━━━━━━━━━━━━━━━\u001b[0m \u001b[32m150.3/150.3 kB\u001b[0m \u001b[31m11.7 MB/s\u001b[0m eta \u001b[36m0:00:00\u001b[0m\n",
            "\u001b[2K     \u001b[90m━━━━━━━━━━━━━━━━━━━━━━━━━━━━━━━━━━━━━━━━\u001b[0m \u001b[32m190.6/190.6 kB\u001b[0m \u001b[31m14.7 MB/s\u001b[0m eta \u001b[36m0:00:00\u001b[0m\n",
            "\u001b[2K     \u001b[90m━━━━━━━━━━━━━━━━━━━━━━━━━━━━━━━━━━━━━━━━\u001b[0m \u001b[32m226.8/226.8 kB\u001b[0m \u001b[31m22.1 MB/s\u001b[0m eta \u001b[36m0:00:00\u001b[0m\n",
            "\u001b[2K     \u001b[90m━━━━━━━━━━━━━━━━━━━━━━━━━━━━━━━━━━━━━━━━\u001b[0m \u001b[32m148.1/148.1 kB\u001b[0m \u001b[31m15.4 MB/s\u001b[0m eta \u001b[36m0:00:00\u001b[0m\n",
            "\u001b[2K     \u001b[90m━━━━━━━━━━━━━━━━━━━━━━━━━━━━━━━━━━━━━━━━\u001b[0m \u001b[32m80.2/80.2 kB\u001b[0m \u001b[31m6.6 MB/s\u001b[0m eta \u001b[36m0:00:00\u001b[0m\n",
            "\u001b[2K     \u001b[90m━━━━━━━━━━━━━━━━━━━━━━━━━━━━━━━━━━━━━━━━\u001b[0m \u001b[32m78.6/78.6 kB\u001b[0m \u001b[31m6.5 MB/s\u001b[0m eta \u001b[36m0:00:00\u001b[0m\n",
            "\u001b[2K     \u001b[90m━━━━━━━━━━━━━━━━━━━━━━━━━━━━━━━━━━━━━━━━\u001b[0m \u001b[32m62.7/62.7 kB\u001b[0m \u001b[31m4.7 MB/s\u001b[0m eta \u001b[36m0:00:00\u001b[0m\n",
            "\u001b[?25h"
          ]
        }
      ],
      "source": [
        "!pip install torch -q torchvision mlflow"
      ]
    },
    {
      "cell_type": "markdown",
      "metadata": {
        "id": "2EwmBYA-MyzA"
      },
      "source": [
        "## Start MLFLOW\n",
        "\n",
        "Please replace the tracking URI with your URI from ngrok Mlflow Server"
      ]
    },
    {
      "cell_type": "code",
      "execution_count": null,
      "metadata": {
        "id": "_lI50JXWMyzA"
      },
      "outputs": [],
      "source": [
        "URI = 'https://a749-35-238-176-44.ngrok-free.app/'"
      ]
    },
    {
      "cell_type": "code",
      "execution_count": null,
      "metadata": {
        "id": "YKKr-m2z1i_F"
      },
      "outputs": [],
      "source": [
        "import mlflow\n",
        "import os\n",
        "import requests"
      ]
    },
    {
      "cell_type": "code",
      "execution_count": null,
      "metadata": {
        "colab": {
          "base_uri": "https://localhost:8080/"
        },
        "id": "2rnrV1BUkwOu",
        "outputId": "26bbfa86-80e2-447b-fe25-53ccf942872a"
      },
      "outputs": [
        {
          "output_type": "execute_result",
          "data": {
            "text/plain": [
              "<ActiveRun: >"
            ]
          },
          "metadata": {},
          "execution_count": 4
        }
      ],
      "source": [
        "# Initialize MLflow\n",
        "mlflow.set_tracking_uri(URI)\n",
        "id = mlflow.get_experiment_by_name(\"mercon_exp\").experiment_id\n",
        "mlflow.set_experiment(experiment_id=id)\n",
        "mlflow.start_run()"
      ]
    },
    {
      "cell_type": "markdown",
      "metadata": {
        "id": "Jz1Ao6L3MyzB"
      },
      "source": [
        "## Part 01 - Getting Data"
      ]
    },
    {
      "cell_type": "code",
      "execution_count": null,
      "metadata": {
        "id": "XO4YsLyd-e4U"
      },
      "outputs": [],
      "source": [
        "# function to download images from urls\n",
        "def download_images(urls, location: str, suffix):\n",
        "  \"\"\"function to download images from urls\"\"\"\n",
        "  for i, url in enumerate(urls):\n",
        "    try:\n",
        "      response = requests.get(url, timeout=15)\n",
        "    except:\n",
        "      continue\n",
        "\n",
        "    path = location + suffix + \"_\" + str(i) + \".jpg\"\n",
        "    with open(path, \"wb\") as f:\n",
        "      f.write(response.content)"
      ]
    },
    {
      "cell_type": "code",
      "execution_count": null,
      "metadata": {
        "id": "lSo4YlZj2Lzi"
      },
      "outputs": [],
      "source": [
        "# making folders to download photos\n",
        "import shutil\n",
        "shutil.rmtree('photos', True)\n",
        "os.makedirs(os.path.dirname(\"photos/dogs/\"), exist_ok=True)\n",
        "os.makedirs(os.path.dirname(\"photos/cats/\"), exist_ok=True)\n"
      ]
    },
    {
      "cell_type": "code",
      "execution_count": null,
      "metadata": {
        "cellView": "form",
        "id": "r_vhmF-n-p33"
      },
      "outputs": [],
      "source": [
        "# @title\n",
        "dogs_photo_links = [\"https://c.pxhere.com/photos/d1/05/dog_animal_puppy_animals_fast_pet_man's_best_friend_jack_russell-980105.jpg!d\",\n",
        " 'https://cdn.pixabay.com/photo/2016/01/11/22/38/animal-1134504_960_720.jpg',\n",
        " 'https://c.pxhere.com/photos/9a/ff/young_dog_puppy_dog_funny_dogs_yellow_dog_dog_nose_yellow_dogs_doggy-1387994.jpg!d',\n",
        " 'https://c.pxhere.com/photos/6f/8c/dog_puppy_cute_love_animal_adorable_pet_fur-477801.jpg!d',\n",
        " 'https://pixnio.com/free-images/2017/11/02/2017-11-02-17-13-23.jpg',\n",
        " 'https://c.pxhere.com/photos/36/3c/animal_dog_retriever_pet_canine_domestic_portrait_doggy-762378.jpg!d',\n",
        " 'https://c.pxhere.com/photos/6c/6f/dog_golden_retriever_labrador_lab_camping_golden_retriever_pet-1401151.jpg!d',\n",
        " 'https://c.pxhere.com/photos/51/64/dog_dogs_pet_holland_model_outdoor_posing_animal-1004187.jpg!d',\n",
        " 'https://c.pxhere.com/photos/63/b8/dog_playing_park_puppy_cute_canine_pet_animal-1341746.jpg!d',\n",
        " 'http://www.publicdomainpictures.net/pictures/40000/velka/cute-dog-1362593345bn4.jpg',\n",
        " 'https://c.pxhere.com/photos/c8/48/dog_doggy_garden_animals_pet_jack_russell_mammal_dogs-718321.jpg!d',\n",
        " 'https://c.pxhere.com/photos/3f/d7/bulldog_underbite_dog_canine_animal_pet_teeth_english-786749.jpg!d',\n",
        " 'https://c.pxhere.com/photos/26/db/beagle_dog_cute_animal_pet_canine_hound_adorable-816169.jpg!d',\n",
        " \"https://c.pxhere.com/photos/4a/3a/dog_beagle_animal_pet_eyes_portrait_snout_dog's_nose-828938.jpg!d\",\n",
        " 'https://cdn.pixabay.com/photo/2017/04/14/15/20/dog-2230532_960_720.jpg',\n",
        " 'https://pixnio.com/free-images/2020/02/24/2020-02-24-11-26-53.jpg',\n",
        " 'http://static.pexels.com/wp-content/uploads/2015/03/animal-brown-dog-5018.jpg',\n",
        " 'https://cdn.pixabay.com/photo/2017/04/01/18/46/puppy-2194237_1280.jpg',\n",
        " 'https://c.pxhere.com/photos/27/a5/small_and_large_two_dogs_welcome_big_and_small_puppy_jack_russel_terrier_golden_retriever_pets-435048.jpg!d',\n",
        " 'https://get.pxhere.com/photo/beach-sea-water-ocean-puppy-dog-animal-cute-canine-pet-mammal-seashore-vertebrate-adorable-dog-breed-pomeranian-samoyed-siberian-husky-dog-like-mammal-dog-breed-group-greenland-dog-german-spitz-mittel-japanese-spitz-american-eskimo-dog-german-spitz-german-spitz-klein-volpino-italiano-1077838.jpg',\n",
        " 'https://c.pxhere.com/photos/60/40/portrait_dog_pet_animal_puppy_pitbull_obedience_dogtraining-270353.jpg!d',\n",
        " 'https://c.pxhere.com/photos/d1/1b/labrador_dog_family_pet_white_pure_breed_pedigree-1259321.jpg!d',\n",
        " 'https://c.pxhere.com/photos/d3/ad/dog_labrador_retriever_black_lab_labrador_retriever_pet_animal_canine-870171.jpg!d',\n",
        " 'https://assets.elizabethandjane.ca/images/pets/gallery/pet-portfolio-31.jpg',\n",
        " 'https://farm5.staticflickr.com/4112/5170590074_066e255655_o_d.jpg',\n",
        " 'https://c.pxhere.com/photos/b7/c1/dog_pomeranian_white_pet_canine_animal_furry_purebred-600477.jpg!d',\n",
        " 'https://pixnio.com/free-images/2017/05/13/2017-05-13-14-45-24.jpg',\n",
        " 'https://get.pxhere.com/photo/hair-white-puppy-dog-animal-cute-canine-pet-fur-small-mammal-haircut-salon-domestic-dog-breed-lhasa-apso-cavapoo-maltese-grooming-miniature-poodle-cockapoo-toy-poodle-groomer-pet-grooming-dog-grooming-havanese-dog-like-mammal-dog-breed-group-schnoodle-dandie-dinmont-terrier-dog-crossbreeds-cavachon-poodle-crossbreed-678977.jpg',\n",
        " 'https://c.pxhere.com/photos/59/25/dog_pet_pets_dogs_nature_animals_nikon_straydogs-279078.jpg!d',\n",
        " 'https://pixnio.com/free-images/2017/04/20/2017-04-20-10-33-32.jpg',\n",
        " 'http://www.publicdomainpictures.net/pictures/170000/velka/dog-1463218026uIC.jpg',\n",
        " 'https://c.pxhere.com/photos/84/4c/beagle_dog_canine_portrait_cute_attentive_looking_sitting-1057588.jpg!d',\n",
        " 'https://c.pxhere.com/photos/35/80/pitbull_fawn_canine_puppy_pet_animal_dog_domestic-1294275.jpg!d',\n",
        " 'https://c.pxhere.com/photos/07/e0/dog_nose_eyes_snout_animal_close_pet_dog_snout-619862.jpg!d',\n",
        " 'https://kb.rspca.org.au/wp-content/uploads/2018/11/golder-retriever-puppy.jpeg',\n",
        " 'http://3.bp.blogspot.com/-GfiMn3VSfnc/VigKnxj9x5I/AAAAAAAA9zI/CXLjzRlI2yA/s1600/boo2.jpg',\n",
        " 'https://c.pxhere.com/photos/31/64/pet_animal_puppy_beag_beagle_mammals_dog_cute-1164004.jpg!d',\n",
        " 'https://c.pxhere.com/photos/a1/ae/white_brown_pretty_pet_dog_animal_canine_domestic-1023675.jpg!d',\n",
        " 'https://cdn.pixabay.com/photo/2014/01/15/04/22/dog-245353_960_720.jpg',\n",
        " 'https://c.pxhere.com/photos/46/2d/french_bulldog_bulldog_dog_cute_animal_pet_snout_attention-783854.jpg!d',\n",
        " 'https://www.maxpixel.net/static/photo/1x/Canine-Pet-Young-Cute-Puppy-Dog-Animal-Puppies-3494447.jpg',\n",
        " 'https://c.pxhere.com/photos/59/ce/english_bulldog_dog_canine_pet_animal_breed_pets_hound-1244644.jpg!d',\n",
        " 'https://static.pexels.com/photos/3512/garden-dog-pet.jpg',\n",
        " 'https://c.pxhere.com/photos/76/fe/dog_hundeportrait_beige_peaceful_pet_dog_head_fur_concerns-1050566.jpg!d',\n",
        " 'https://cdn.pixabay.com/photo/2015/02/22/01/55/greyhound-644732_960_720.jpg',\n",
        " 'https://cdn.pixabay.com/photo/2014/01/15/04/25/dog-245356_960_720.jpg',\n",
        " 'https://c.pxhere.com/photos/c9/1f/english_bulldog_bulldog_pet_dog_animal_adorable_cute_canine-669512.jpg!d',\n",
        " 'https://pixnio.com/free-images/2017/04/14/2017-04-14-12-26-50-725x483.jpg',\n",
        " 'http://www.publicdomainpictures.net/pictures/30000/velka/dog-1349074812Hpj.jpg',\n",
        " 'https://p1.pxfuel.com/preview/118/424/64/dog-puppy-pet-animals-cute.jpg',\n",
        " 'https://get.pxhere.com/photo/puppy-dog-animal-pet-mammal-pets-vertebrate-dog-breed-akita-hokkaido-shiba-inu-akita-inu-korean-jindo-dog-shikoku-dog-like-mammal-saarloos-wolfdog-wolfdog-carnivoran-dog-breed-group-greenland-dog-east-siberian-laika-west-siberian-laika-northern-inuit-dog-eurasier-icelandic-sheepdog-finnish-spitz-canaan-dog-kishu-norwegian-buhund-914137.jpg',\n",
        " 'https://c.pxhere.com/photos/df/7b/pet_dog_hybrid_animal_small_dog_mood_head_wildlife_photography-673278.jpg!d',\n",
        " 'https://c.pxhere.com/photos/b6/56/dog_terrier_beach_pet_greyhound_mammal_animal_snout-622814.jpg!d',\n",
        " 'https://c.pxhere.com/photos/e3/09/puppy_dog_pet_animal_look-1084898.jpg!d',\n",
        " 'https://pixnio.com/free-images/2018/06/13/2018-06-13-16-10-13-900x900.jpg',\n",
        " 'https://assets.elizabethandjane.ca/images/pets/gallery/pet-portfolio-62.jpg',\n",
        " 'https://c.pxhere.com/photos/42/b9/puppy_pet_dog_pow_animal_animals_poodle_cute-601249.jpg!d',\n",
        " 'https://c1.peakpx.com/wallpaper/1/293/96/pet-animal-canine-puppy-dog-wallpaper-preview.jpg',\n",
        " 'https://assets.elizabethandjane.ca/images/pets/gallery/pet-portfolio-60.jpg',\n",
        " 'https://c.pxhere.com/photos/b5/cb/dog_mix_breed_pet_animal_cute_fur-775556.jpg!d',\n",
        " 'https://c.pxhere.com/photos/70/34/baby_dog_puppy_animal_pet_cute_adorable_doggy-1095925.jpg!d',\n",
        " 'https://pixnio.com/free-images/2017/10/31/2017-10-31-12-01-23.jpg',\n",
        " 'https://c1.peakpx.com/wallpaper/765/155/711/dog-cute-animal-pet-young-dog-wallpaper.jpg',\n",
        " 'https://c.pxhere.com/photos/a8/7f/animal_backyard_ball_bokeh_close_up_view_dogs_pet_pets-1177517.jpg!d',\n",
        " 'https://www.maxpixel.net/static/photo/2x/Portrait-Pets-Cute-Dogs-Pet-Shetland-Sheepdog-Dog-4012200.jpg',\n",
        " 'https://c.pxhere.com/photos/19/6e/dog_puppy_pet_animal_canine_cute_doggy_terrier-933009.jpg!d',\n",
        " 'https://cdn.pixabay.com/photo/2018/02/25/00/23/labrador-3179541_960_720.jpg',\n",
        " 'https://c.pxhere.com/photos/62/5f/dog_puppy_white_sch_fer-1008714.jpg!d',\n",
        " 'https://www.maxpixel.net/static/photo/1x/Canidae-Animal-Kingdom-Cute-Pet-Dog-3077264.jpg',\n",
        " 'http://www.publicdomainpictures.net/pictures/200000/velka/dogs-1476811575esl.jpg',\n",
        " 'https://c.pxhere.com/photos/b6/f5/dog_playing_park_canine_doggy_furry_pet_animal-1113009.jpg!d',\n",
        " 'https://pixnio.com/free-images/2017/05/04/2017-05-04-18-24-58-900x600.jpg',\n",
        " 'https://freepngimg.com/thumb/dog/6-2-dog-png-2.png',\n",
        " 'https://c.pxhere.com/photos/4c/62/dog_pet_pets_dogs_animal_animals_nikon_moscow-800677.jpg!d',\n",
        " 'https://c.pxhere.com/photos/2d/e8/pitbull_dog_bitch_profile_dog_pet_animal_animals_puppy-626101.jpg!d',\n",
        " 'https://assets.elizabethandjane.ca/images/pets/gallery/pet-portfolio-02.jpg',\n",
        " 'https://pixnio.com/free-images/2017/04/13/2017-04-13-15-16-48.jpg',\n",
        " 'https://cdn.pixabay.com/photo/2017/06/07/00/08/pet-2378938_960_720.jpg',\n",
        " 'https://c.pxhere.com/photos/35/5a/dog_beige_fur_animal_pet_portrait_cute_light_brown-537484.jpg!d',\n",
        " 'https://c.pxhere.com/photos/ef/40/puggle_dog_smiling_moby_funny_cute_elvis_lip_pug-1393624.jpg!d',\n",
        " 'https://p0.pxfuel.com/preview/325/432/971/dog-house-pets-charming-animals.jpg',\n",
        " 'https://www.maxpixel.net/static/photo/640/Animal-Cute-Cane-Corso-Puppy-Dog-Pet-The-Shy-423398.jpg',\n",
        " 'https://c.pxhere.com/photos/63/4d/dog_water_lake_pet_animal_sed_pets_hydration-1193564.jpg!d',\n",
        " 'https://c.pxhere.com/photos/a0/89/pet_dog_animal_animals_the_muzzle_close_up-748382.jpg!d',\n",
        " 'https://c.pxhere.com/photos/4e/c4/dog_labrador_brown_head_portrait_animal_pet_close-816282.jpg!d',\n",
        " 'http://upload.wikimedia.org/wikipedia/commons/e/ec/Terrier_mixed-breed_dog.jpg',\n",
        " 'https://www.maxpixel.net/static/photo/1x/Cute-Golden-Retriever-Pet-Dog-Animal-3145878.jpg',\n",
        " 'https://c.pxhere.com/photos/8a/26/portrait_dog_pet_animal_pitbull_foster_stare_adopt-458394.jpg!d',\n",
        " 'https://cdn.pixabay.com/photo/2014/10/04/11/52/dog-472855_960_720.jpg',\n",
        " 'https://pixnio.com/free-images/2017/08/09/2017-08-09-18-40-44.jpg',\n",
        " 'https://www.maxpixel.net/static/photo/1x/Dogs-Pet-Dog-Puppy-Doggy-Sweet-Cute-Animals-1917049.jpg',\n",
        " 'https://www.publicdomainpictures.net/pictures/80000/velka/dog-1392408144V0W.jpg',\n",
        " 'https://c.pxhere.com/photos/0b/52/greyhound_dog_canine_pet_nature_outside_macro_close_up-1132669.jpg!d',\n",
        " 'https://cdn.pixabay.com/photo/2015/11/29/13/06/pet-1068669_960_720.jpg',\n",
        " 'https://c.pxhere.com/photos/bb/e8/dog_shepherd_german_pet_canine_animal_domestic_mammal-994853.jpg!d',\n",
        " 'https://c1.staticflickr.com/9/8609/16548172878_3f51ba52e9_b.jpg',\n",
        " 'https://c.pxhere.com/photos/55/6c/dog_pit_bull_sunning_bright_sun_pet_animal_breed_outdoors-600754.jpg!d',\n",
        " 'https://c.pxhere.com/photos/7d/5f/dog_hybrid_pets_face_small_dog_portrait_young_dog_snout-760289.jpg!d',\n",
        " 'https://cdn.pixabay.com/photo/2017/03/15/08/53/dog-2145521_960_720.jpg',\n",
        " 'https://cdn.pixabay.com/photo/2014/05/05/21/25/dog-338590_960_720.jpg',\n",
        " 'https://c.pxhere.com/photos/10/3f/dog_face_pet_animal_domestic_mammal_young_adorable-1246289.jpg!d',\n",
        " 'https://cdn.pixabay.com/photo/2012/08/28/00/43/dog-55141_960_720.jpg',\n",
        " 'https://c.pxhere.com/photos/87/34/dog_animal_jack_russell_pet_puppies_race_brown_fur-913462.jpg!d',\n",
        " 'https://cdn.pixabay.com/photo/2012/12/20/10/12/dog-71344_960_720.jpg',\n",
        " 'https://assets.elizabethandjane.ca/images/pets/gallery/pet-portfolio-14.jpg',\n",
        " 'https://assets.elizabethandjane.ca/images/pets/gallery/pet-portfolio-45.jpg',\n",
        " 'https://www.publicdomainpictures.net/pictures/50000/velka/dog-1373273591Tqi.jpg',\n",
        " 'https://assets.elizabethandjane.ca/images/pets/gallery/pet-portfolio-43.jpg',\n",
        " 'https://assets.elizabethandjane.ca/images/pets/gallery/pet-portfolio-36.jpg',\n",
        " 'https://p0.pikist.com/photos/728/266/dog-hybrid-mixed-breed-dog-dog-head-snout-pet-cute-vigilant-animal.jpg',\n",
        " 'https://c.pxhere.com/photos/6c/30/dog_animal_pet_cute_hybrid_head_snout_portrait-606320.jpg!d',\n",
        " 'https://pixabay.com/static/uploads/photo/2014/09/03/19/16/puppy-434841_960_720.jpg',\n",
        " 'https://c.pxhere.com/photos/cb/93/dog_dachshund_looking_portrait_domestic_pet_canine_cute-487846.jpg!d',\n",
        " 'https://cdn.pixabay.com/photo/2017/01/10/16/11/dog-1969562_960_720.jpg',\n",
        " 'https://www.maxpixel.net/static/photo/640/Pet-Retriever-Labrador-Animal-Dog-Summer-Park-1394369.jpg',\n",
        " 'https://pixnio.com/free-images/2017/05/31/2017-05-31-10-22-18.jpg',\n",
        " 'https://c1.peakpx.com/wallpaper/765/155/711/dog-cute-animal-pet-young-dog-wallpaper-preview.jpg',\n",
        " 'https://assets.elizabethandjane.ca/images/pets/gallery/pet-portfolio-37.jpg',\n",
        " 'https://www.maxpixel.net/static/photo/640/Beauceron-Eyes-Dog-Close-Up-Look-2976311.jpg',\n",
        " 'https://assets.elizabethandjane.ca/images/pets/gallery/pet-portfolio-18.jpg',\n",
        " 'https://cdn.pixabay.com/photo/2014/11/18/05/24/dog-535633_960_720.jpg',\n",
        " 'https://www.maxpixel.net/static/photo/640/Dog-Breed-Pet-Majestic-Weimaraner-Grey-Gray-1801724.jpg',\n",
        " 'http://www.publicdomainpictures.net/pictures/40000/nahled/cute-dog-1362593345bn4.jpg',\n",
        " 'http://upload.wikimedia.org/wikipedia/commons/6/69/Funny_dog.jpg',\n",
        " 'https://assets.elizabethandjane.ca/images/pets/gallery/pet-portfolio-24.jpg',\n",
        " 'https://cdn.pixabay.com/photo/2015/12/17/18/04/dog-1097667_960_720.jpg',\n",
        " 'https://assets.elizabethandjane.ca/images/pets/gallery/pet-portfolio-28.jpg',\n",
        " 'https://get.pxhere.com/photo/white-dog-portrait-smile-dog-from-shelter-pet-portrait-full-length-dog-mammal-vertebrate-canidae-dog-breed-carnivore-east-siberian-laika-canaan-dog-carolina-dog-korean-jindo-dog-norwegian-buhund-west-siberian-laika-saarloos-wolfdog-czechoslovakian-wolfdog-ancient-dog-breeds-pariah-dog-shikoku-hokkaido-fawn-norwegian-lundehund-tail-wolfdog-dingo-rare-breed-dog-laika-finnish-spitz-icelandic-sheepdog-new-guinea-singing-dog-working-dog-Black-norwegian-elkhound-hunting-dog-1603399.jpg',\n",
        " 'https://cdn.pixabay.com/photo/2016/06/06/21/05/dog-1440389_960_720.jpg',\n",
        " 'https://c.pxhere.com/photos/d5/ea/winter_dog_pets_snow_playing_cute_animals_puppy-265483.jpg!d',\n",
        " 'https://www.publicdomainpictures.net/pictures/60000/velka/dogs-13764070445UZ.jpg',\n",
        " 'https://www.maxpixel.net/static/photo/640/Pet-Dog-Nose-Golden-Retriever-1283924.jpg',\n",
        " 'https://cdn.pixabay.com/photo/2015/06/12/06/44/dog-806517_640.jpg',\n",
        " 'https://cdn.pixabay.com/photo/2012/02/18/22/52/puppy-14685_960_720.jpg',\n",
        " 'https://cdn.pixabay.com/photo/2017/08/08/17/55/dog-2612083_960_720.jpg',\n",
        " 'https://www.pngall.com/wp-content/uploads/10/Pet-PNG-Images-HD.png',\n",
        " 'https://www.maxpixel.net/static/photo/1x/Puppy-Dogs-Animal-Pets-Domestic-Jack-Russel-Cute-3466177.jpg',\n",
        " 'https://c.pxhere.com/photos/6f/28/labrador_yellow_pet_dog_animal_canine_head_retriever-1206170.jpg!s',\n",
        " 'https://p0.pikist.com/photos/576/623/chihuahua-dog-old-animal-pet-puppy-doggy-canine-small.jpg',\n",
        " 'https://c.pxhere.com/photos/ca/f4/shiba_inu_shiba_dog_relaxing_cute_sweet_pet_animal-1241639.jpg!d',\n",
        " 'https://www.publicdomainpictures.net/pictures/200000/velka/dog-1477496705VBp.jpg',\n",
        " 'https://www.publicdomainpictures.net/pictures/40000/velka/dog-1360322476AkX.jpg',\n",
        " 'https://www.maxpixel.net/static/photo/640/Young-Dog-Pet-Photography-Animal-Puppy-Dog-2184791.png',\n",
        " 'https://www.maxpixel.net/static/photo/640/Pet-Animals-Dogs-Playing-Puppy-Animal-Dog-2971947.jpg',\n",
        " 'https://cdn.pixabay.com/photo/2015/09/11/17/00/labrador-936086_640.jpg',\n",
        " 'https://cdn.pixabay.com/photo/2012/02/17/15/24/dog-14460_640.jpg',\n",
        " 'https://cdn.pixabay.com/photo/2015/04/30/14/48/dog-747020_960_720.jpg',\n",
        " 'https://c.pxhere.com/photos/37/06/dog_animals_pets_head_labrador_face_race_puppies-752470.jpg!d',\n",
        " 'https://www.maxpixel.net/static/photo/640/Animal-Portrait-Animal-Dressed-Up-Cute-Pet-Dog-3158585.jpg',\n",
        " 'https://www.publicdomainpictures.net/pictures/60000/velka/dog-1379721183ZcQ.jpg',\n",
        " 'https://www.publicdomainpictures.net/pictures/280000/velka/dog-alaskan-malamute-animal-pet.jpg',\n",
        " 'https://www.maxpixel.net/static/photo/640/Hybrid-Snout-Animal-Pet-Mixed-Breed-Dog-Dog-3415378.jpg',\n",
        " 'https://c.pxhere.com/photos/a9/42/dog_pug_mix_pug_puppy_outdoors_companion_animal_canine-1055179.jpg!d',\n",
        " 'https://p0.pikist.com/photos/798/566/puppy-sweet-dog-cute-summer-young-animal-pet-dog-puppy-dog-on-meadow.jpg',\n",
        " 'https://c.pxhere.com/photos/78/c4/dog_animal_winter_snow_race_tibetan_terrier_mammal_pet-911917.jpg!d',\n",
        " 'https://c.pxhere.com/photos/f0/e1/dog_animal_pet_cute_hybrid_head_snout_portrait-606319.jpg!d',\n",
        " 'https://c.pxhere.com/photos/0f/56/dog_portrait_cute_canine_looking_head_alert_pet-1295424.jpg!d',\n",
        " 'https://c.pxhere.com/photos/24/3a/bolognese_pets_dog_animal_pet_curly_fur_white-1225994.jpg!d',\n",
        " 'https://c.pxhere.com/photos/67/7f/dog_dogs_pet_holland_model_outdoor_posing_playing-1006644.jpg!d',\n",
        " 'https://www.maxpixel.net/static/photo/640/Animal-Eyes-View-Dog-Pet-German-Longhaired-Pointer-782498.jpg',\n",
        " 'https://www.publicdomainpictures.net/pictures/40000/velka/dog-1362027680IyA.jpg',\n",
        " 'http://www.publicdomainpictures.net/pictures/170000/velka/dog-1463219033JJm.jpg',\n",
        " 'https://www.publicdomainpictures.net/pictures/170000/velka/dog-1461878285o3f.jpg',\n",
        " 'https://assets.elizabethandjane.ca/images/pets/gallery/pet-portfolio-17.jpg',\n",
        " 'https://p0.pikist.com/photos/663/1008/dog-cute-cute-dog-pet-animal-puppy-canine-adorable-domestic.jpg',\n",
        " 'https://c.pxhere.com/photos/c4/a9/dog_cavalier_king_charles_spaniel_funny_pet_animal_fur_brown_white-539753.jpg!d',\n",
        " 'http://www.publicdomainpictures.net/pictures/170000/velka/dog-1463218466GR9.jpg',\n",
        " 'https://c.pxhere.com/photos/fc/34/dog_pet_puppy_cavoodle_cavapoo_poodlecross_oddle-426224.jpg!d',\n",
        " 'https://assets.elizabethandjane.ca/images/pets/gallery/pet-portfolio-32.jpg',\n",
        " 'https://c.pxhere.com/photos/29/cd/puppy_tounge_pet_dog_cute_canine_pink_tounge_adorable-871018.jpg!d',\n",
        " 'https://c.pxhere.com/photos/ee/98/maltese_poodle_dog_pet_face-1063444.jpg!d',\n",
        " 'http://www.publicdomainpictures.net/pictures/40000/velka/dog-1362222090IV1.jpg',\n",
        " 'https://c.pxhere.com/photos/8c/99/bull_terrier_bullterrier_english_dog_bull_terrier_pet_animal-691740.jpg!d',\n",
        " 'https://cdn.pixabay.com/photo/2017/02/28/21/07/dog-2106853_960_720.jpg',\n",
        " 'https://www.publicdomainpictures.net/pictures/100000/velka/dog-1411574525mAh.jpg',\n",
        " 'https://c.pxhere.com/photos/cd/86/dog_foxhound_hound_pet_mammal_purebred_canine_outdoors-1152104.jpg!d',\n",
        " 'https://cdn.pixabay.com/photo/2014/04/05/11/40/puppy-316670_640.jpg',\n",
        " 'https://c.pxhere.com/photos/1e/a6/dogs_pets_people_animals_landscape_panama_happy_attentive_dog_male_and_female-454886.jpg!d',\n",
        " 'https://c.pxhere.com/photos/65/c7/nose_resting_dog_golden_retriever_head_pet_doggy_purebred-997587.jpg!d',\n",
        " 'https://c.pxhere.com/photos/08/4a/bernese_mountain_dog_pedigree_pet_dog_canine_puppy_pooch_growl-1005740.jpg!d',\n",
        " 'https://c.pxhere.com/photos/80/90/animal_dog_german_shepherd_watchdog_pet_young_faithful_confidence-1102120.jpg!d',\n",
        " 'http://www.dancingdogblog.com/wp-content/uploads/2016/04/panoramic_down_stay-2.jpg',\n",
        " 'https://c.pxhere.com/photos/fb/d0/pets_dogs_animals_pug_beautiful_dog_breed_of_dog-546275.jpg!s',\n",
        " 'https://c.pxhere.com/photos/a1/4a/malinois_young_dog_brown_quadruped_pet_animal_animal_portrait_dog-747706.jpg!d',\n",
        " 'https://c.pxhere.com/photos/c1/c2/welschcorgi_dog_pet_relax_family_hiking_dogs_animals-535570.jpg!d',\n",
        " 'https://c.pxhere.com/photos/ee/63/dog_animals_pets_forest_fur_dogs-815466.jpg!s',\n",
        " 'https://get.pxhere.com/photo/puppy-dog-pet-young-mammal-nose-golden-retriever-vertebrate-out-dog-breed-retriever-purebred-dog-in-the-free-hundeportrait-dog-like-mammal-carnivoran-654848.jpg',\n",
        " 'https://c.pxhere.com/photos/ea/91/animal_dog_pet_cocker_spaniel_cocker_spaniel-884084.jpg!d',\n",
        " 'https://c.pxhere.com/photos/b8/56/dog_miniature_pinscher_reh_pinscher_striezel_pet_hundesport_dogs_playing_small_dog-883098.jpg!d',\n",
        " 'https://c.pxhere.com/photos/7c/f7/dog_each_pets_devotion-795621.jpg!d',\n",
        " 'https://c.pxhere.com/photos/ec/54/dog_pet_black-655877.jpg!d',\n",
        " 'https://c.pxhere.com/photos/f0/64/chow_chow_tibet_lion_dog_lion_look_animal_cute_pet-612363.jpg!d',\n",
        " 'https://c.pxhere.com/photos/06/57/border_colly_dog_hundesport_agility_pet_colly-889186.jpg!d',\n",
        " 'https://upload.wikimedia.org/wikipedia/commons/f/f7/RileyPapillon.JPG',\n",
        " 'https://c.pxhere.com/photos/1f/3b/dog_canine_newfoundland_gray_portrait_large_looking_pet-1175095.jpg!d',\n",
        " 'https://c.pxhere.com/photos/41/d1/animal_dog_german_shepherd_pet_watchdog_animals_vigilant_young-1102115.jpg!d',\n",
        " 'https://cdn.pixabay.com/photo/2016/03/06/14/08/dog-1240436_960_720.jpg',\n",
        " 'https://c.pxhere.com/photos/67/06/dogs_pet_animal_mammal-912655.jpg!d',\n",
        " 'http://3.bp.blogspot.com/-acyhpIfKBHw/TdqISzgDxLI/AAAAAAAAA3Q/oYWkkCn6D6U/s1600/CACHORRIN.jpg',\n",
        " 'https://c.pxhere.com/photos/a5/75/yorkshire_dog_pets_puppies_ball_outfit_garden_shrubs-1414489.jpg!d']\n",
        "\n",
        "\n"
      ]
    },
    {
      "cell_type": "code",
      "execution_count": null,
      "metadata": {
        "id": "1qpY3skW-plF"
      },
      "outputs": [],
      "source": [
        "download_images(dogs_photo_links, \"photos/dogs/\", \"dog\")"
      ]
    },
    {
      "cell_type": "code",
      "execution_count": null,
      "metadata": {
        "cellView": "form",
        "id": "mjqhyBy5_9kG"
      },
      "outputs": [],
      "source": [
        "# @title\n",
        "cats_photo_links = ['https://static.pexels.com/photos/45201/kitty-cat-kitten-pet-45201.jpeg',\n",
        " 'https://pixnio.com/free-images/2017/04/07/2017-04-07-14-32-26.jpg',\n",
        " 'https://pixnio.com/free-images/2017/11/03/2017-11-03-23-14-56.jpg',\n",
        " 'https://pixnio.com/free-images/2017/04/27/2017-04-27-15-59-38.jpg',\n",
        " 'https://upload.wikimedia.org/wikipedia/commons/thumb/3/3a/Cat03.jpg/1200px-Cat03.jpg',\n",
        " 'http://upload.wikimedia.org/wikipedia/commons/e/ee/Domestic_cat_felis_catus.jpg',\n",
        " 'https://pixnio.com/free-images/2017/09/26/2017-09-26-07-42-55.jpg',\n",
        " 'http://4.bp.blogspot.com/_MtlgRYhPNts/TOtFsi9M6bI/AAAAAAAAAAM/JoxAYzVT1vY/s1600/healthy-cat.jpg',\n",
        " 'https://pixnio.com/free-images/2017/09/26/2017-09-26-07-36-06.jpg',\n",
        " 'https://cdn.pixabay.com/photo/2014/03/29/09/17/cat-300572_960_720.jpg',\n",
        " 'https://static.pexels.com/photos/3415/pet-kitten-cat.jpg',\n",
        " 'https://www.publicdomainpictures.net/pictures/260000/velka/pet-cat.jpg',\n",
        " 'https://c.pxhere.com/photos/20/e8/cat_putties_kitten_cute_pet_animal_adidas_domestic_cat-796805.jpg!d',\n",
        " 'https://pixnio.com/free-images/fauna-animals/cats-and-kittens/domestic-cat-pet.jpg',\n",
        " 'https://cdn.pixabay.com/photo/2014/10/07/17/44/cat-478085_960_720.jpg',\n",
        " 'https://cdn.pixabay.com/photo/2016/01/20/13/05/cat-1151519_960_720.jpg',\n",
        " 'https://www.publicdomainpictures.net/pictures/200000/velka/pet-cat-portrait.jpg',\n",
        " 'https://cdn.pixabay.com/photo/2015/07/23/15/23/cat-857076_960_720.jpg',\n",
        " 'https://pixnio.com/free-images/2017/06/08/2017-06-08-07-34-54.jpg',\n",
        " 'https://cdn.pixabay.com/photo/2016/09/11/09/49/cat-1660964_960_720.jpg',\n",
        " 'https://pixnio.com/free-images/2017/09/26/2017-09-26-09-46-45.jpg',\n",
        " 'https://c.pxhere.com/photos/b0/79/cat_portrait_cat_face_pet_face_cat_close_view_adidas-843475.jpg!d',\n",
        " 'https://cdn.pixabay.com/photo/2015/05/10/22/50/pet-761675_960_720.jpg',\n",
        " 'https://pixnio.com/free-images/2017/04/14/2017-04-14-12-34-14.jpg',\n",
        " 'https://c.pxhere.com/photos/d3/fd/cat_domestic_cat_sleep_basket_curious-1346484.jpg!d',\n",
        " 'https://c.pxhere.com/photos/3d/d7/cat_kitten_pet_tiger_white_feline_cute_kitten-487172.jpg!d',\n",
        " 'https://pixnio.com/free-images/2017/09/26/2017-09-26-07-16-27.jpg',\n",
        " 'https://pixabay.com/static/uploads/photo/2013/12/12/03/09/kitten-227011_960_720.jpg',\n",
        " 'https://c.pxhere.com/photos/90/b5/british_shorthair_lilac_grey_cat_easter_bellis_flowers_pet-643272.jpg!d',\n",
        " 'https://c.pxhere.com/photos/e0/b8/kitty_cat_kitten_pet_animal_cute_feline_domestic-919634.jpg!d',\n",
        " 'http://upload.wikimedia.org/wikipedia/commons/9/9e/Domestic_cat.jpg',\n",
        " 'https://cdn.pixabay.com/photo/2016/06/09/15/52/cat-1446010_960_720.jpg',\n",
        " 'https://cdn.pixabay.com/photo/2015/05/14/13/02/cat-766738_960_720.jpg',\n",
        " 'https://c.pxhere.com/photos/8f/be/cat_animal_cats_pet_mammal_yawn_feline-548712.jpg!d',\n",
        " 'https://c.pxhere.com/photos/03/2a/cat_pet_animal_domestic_feline_kitten_kitty_cuddly-1040417.jpg!d',\n",
        " 'https://www.maxpixel.net/static/photo/640/Close-up-Tabby-Pet-Cat-Feline-Animal-Portrait-114782.jpg',\n",
        " 'https://cdn.pixabay.com/photo/2015/04/09/18/07/portrait-714868_960_720.jpg',\n",
        " 'https://upload.wikimedia.org/wikipedia/commons/thumb/4/4d/Cat_November_2010-1a.jpg/1200px-Cat_November_2010-1a.jpg',\n",
        " 'https://www.maxpixel.net/static/photo/1x/Pet-Domestic-Kitty-Mad-Cat-Cute-Portrait-Animal-3279125.jpg',\n",
        " 'https://c.pxhere.com/photos/7f/75/cat_feline_pet_mammal-883616.jpg!d',\n",
        " 'https://www.publicdomainpictures.net/pictures/280000/velka/tabby-cat-pet.jpg',\n",
        " 'https://c.pxhere.com/photos/31/3d/cat_feline_tabby_domestic_animal_pet_cute_fluffy-566214.jpg!d',\n",
        " 'https://c.pxhere.com/photos/70/1a/cat_feline_tabby_pet_mammal_animal_domestic_cute-492021.jpg!d',\n",
        " 'https://c.pxhere.com/photos/32/d0/cats_kittens_animals_feline_animal_pets_cat_face_gata-928883.jpg!d',\n",
        " 'https://i0.hippopx.com/photos/750/607/599/cat-funny-animals-domestic-cat-preview.jpg',\n",
        " 'https://cdn.pixabay.com/photo/2017/02/06/11/26/bengal-2042592_960_720.jpg',\n",
        " 'https://cdn.pixabay.com/photo/2015/06/03/13/13/cats-796437_960_720.jpg',\n",
        " 'https://www.publicdomainpictures.net/pictures/280000/velka/kitten-cat-pet-animal-cute-15399484099R2.jpg',\n",
        " 'https://c1.peakpx.com/wallpaper/325/700/942/cat-domestic-cat-cat-face-pet-head-wallpaper-preview.jpg',\n",
        " 'https://pixnio.com/free-images/2017/08/20/2017-08-20-09-59-51-1000x714.jpg',\n",
        " 'https://c.pxhere.com/photos/27/03/cat_pet_british_shorthair-731101.jpg!d',\n",
        " 'https://pixnio.com/free-images/2017/05/18/2017-05-18-11-01-41.jpg',\n",
        " 'https://c1.peakpx.com/wallpaper/805/634/520/domestic-cat-cat-pet-mieze-animal-wallpaper-preview.jpg',\n",
        " 'https://p1.pxfuel.com/preview/848/935/578/cat-baby-kitten-cat-small-animal-baby-cat-pet.jpg',\n",
        " 'https://cdn.pixabay.com/photo/2015/12/28/00/15/cat-1110715_1280.jpg',\n",
        " 'https://c.pxhere.com/photos/35/ba/cute_kitten_kitten_looking_up_cute_kitten_cat_pet_animal_fur-738036.jpg!d',\n",
        " 'https://c.pxhere.com/photos/4b/3b/animal_cat_kitten_british_blue_cat_pet_british_shorthair_gaze_view-748531.jpg!d',\n",
        " 'https://c.pxhere.com/photos/35/62/animal_fart_pet_domestic_animal_feline_cat_promontory_perched-818498.jpg!d',\n",
        " 'https://www.maxpixel.net/static/photo/640/Grass-Cat-Kitten-Pet-Cute-Animal-Young-Small-3175389.jpg',\n",
        " \"https://c.pxhere.com/photos/b1/2b/house_cat_cat_pet_pet_cat_domestic_cat_animal_feline_cat's_eyes-1107880.jpg!d\",\n",
        " 'https://c.pxhere.com/photos/a3/fb/cat_black_pet_angora_cat_cat_face_domestic_cat_animal_mammal-873984.jpg!d',\n",
        " 'https://cdn.pixabay.com/photo/2016/12/11/04/33/cat-1898772_1280.jpg',\n",
        " 'http://www.publicdomainpictures.net/pictures/10000/velka/87-1276781475ixe2.jpg',\n",
        " 'https://cdn.pixabay.com/photo/2015/02/14/10/16/cat-636172_960_720.jpg',\n",
        " 'https://cdn.pixabay.com/photo/2014/03/07/06/44/house-cat-281510_960_720.jpg',\n",
        " 'https://c.pxhere.com/photos/f8/01/cat_black_cat_black_pet_animal_window_glass_raindrop-711562.jpg!d',\n",
        " 'https://cdn.pixabay.com/photo/2016/07/17/12/21/cat-1523665_960_720.jpg',\n",
        " 'https://pixnio.com/free-images/2017/09/26/2017-09-26-09-35-37.jpg',\n",
        " 'https://cdn.pixabay.com/photo/2012/02/16/12/07/cat-13382_960_720.jpg',\n",
        " 'https://pixnio.com/free-images/2017/09/26/2017-09-26-10-12-00.jpg',\n",
        " 'https://c.pxhere.com/photos/70/88/ginger_cat_domestic_short_haired_feline-900412.jpg!d',\n",
        " 'https://www.maxpixel.net/static/photo/640/Short-Hair-Cat-British-Pet-British-Shorthair-Mieze-3237148.png',\n",
        " 'https://c1.peakpx.com/wallpaper/58/722/444/cat-pet-fur-care-adidas-wallpaper-preview.jpg',\n",
        " 'https://c.pxhere.com/photos/8e/46/cat_animal_lazing_around_pet_cat_s_eyes_sleep_relax_schmusekatze-518022.jpg!d',\n",
        " 'https://c.pxhere.com/photos/f5/6c/cat_kitten_white_fur_feline_mammal_animal_pet-526522.jpg!d',\n",
        " 'https://c.pxhere.com/photos/e6/76/animal_animal_photography_cat_cute_feline_kitten_pet_tabby-994753.jpg!d',\n",
        " 'https://c.pxhere.com/photos/af/18/cat_main_coon_maine_coon_cat_maine_coon_cat_face_mainecoon_adidas_cat_cat-453393.jpg!d',\n",
        " 'https://c.pxhere.com/photos/75/32/animal_cat_cute_feline_fur_pet_tabby-1172605.jpg!d',\n",
        " 'https://c.pxhere.com/images/e0/89/a9f75d6b1b58e4134f40d06fb776-1418284.jpg!d',\n",
        " 'https://cdn.pixabay.com/photo/2014/11/30/14/11/kitty-551556_960_720.jpg',\n",
        " 'https://cdn.pixabay.com/photo/2012/02/17/09/03/cat-13913_1280.jpg',\n",
        " 'https://p2.piqsels.com/preview/781/990/359/adorable-animal-cat-cute.jpg',\n",
        " 'https://c.pxhere.com/photos/14/6c/cat_domestic_cat_lucky_cat_mieze_pet_animal_adidas_face-768739.jpg!d',\n",
        " 'https://c.pxhere.com/photos/46/13/cats_animals_pet_kitten_cat_face_cat_hair_pets_cat_nose-1027443.jpg!d',\n",
        " \"https://get.pxhere.com/photo/grass-animal-pet-fur-coat-kitten-cat-tabby-mammal-gray-blue-fauna-mustache-thoroughbred-eyes-whiskers-kitty-look-vertebrate-tomcat-observation-cat-eyes-domestic-cat-breed-charming-futrzak-maine-coon-feb-cat's-eyes-tabby-cat-norwegian-forest-cat-european-shorthair-laziness-wild-cat-small-to-medium-sized-cats-cat-like-mammal-nebelung-domestic-short-haired-cat-domestic-long-haired-cat-597116.jpg\",\n",
        " 'https://cdn.pixabay.com/photo/2013/09/15/18/24/cat-182642_960_720.jpg',\n",
        " 'https://c1.peakpx.com/wallpaper/134/732/870/comfort-cat-pet-house-cats-animals-wallpaper-preview.jpg',\n",
        " 'https://p0.pikist.com/photos/277/577/cat-red-cute-mackerel-tiger-sweet-cuddly-animal-domestic-cat.jpg',\n",
        " 'https://c.pxhere.com/photos/f1/79/cat_grey_gray_kitten_pet_animal_fur_feline-651479.jpg!d',\n",
        " 'https://c.pxhere.com/photos/07/fb/cat_animal_portrait_attention_cat_face_adidas_close_pet_domestic_cat-742332.jpg!d',\n",
        " 'https://cdn.pixabay.com/photo/2016/02/22/17/56/cat-1216143_960_720.jpg',\n",
        " 'https://cdn.pixabay.com/photo/2014/10/05/19/08/pet-475670_640.jpg',\n",
        " 'https://cdn.pixabay.com/photo/2016/11/26/16/28/cat-1861118_960_720.jpg',\n",
        " 'https://i0.hippopx.com/photos/38/77/284/cat-kitten-feline-pet-preview.jpg',\n",
        " 'https://www.maxpixel.net/static/photo/640/Domestic-Cat-Cat-Cat-Face-Dear-Animal-Pet-Kitten-1821446.jpg',\n",
        " 'https://cdn.pixabay.com/photo/2014/01/05/13/34/cat-239155_960_720.jpg',\n",
        " 'https://www.maxpixel.net/static/photo/640/Domestic-Cat-Cats-Eye-Kitten-Cat-Animal-Pet-Cute-3360397.jpg',\n",
        " 'https://cdn.pixabay.com/photo/2014/10/14/10/56/cats-488045_960_720.jpg',\n",
        " 'https://cdn.pixabay.com/photo/2018/01/10/23/00/cat-3074970_1280.jpg',\n",
        " 'https://cdn.pixabay.com/photo/2016/11/11/14/33/cat-1816933_960_720.jpg',\n",
        " 'https://c.pxhere.com/photos/32/35/baby_cat_cat_baby_kitten_young_cat_cat_adidas_snuggle_cute-1379313.jpg!d',\n",
        " 'https://pixnio.com/free-images/2017/05/06/2017-05-06-09-39-17-900x600.jpg',\n",
        " 'https://cdn.pixabay.com/photo/2012/02/28/10/13/cat-18001_960_720.jpg',\n",
        " 'https://pixnio.com/free-images/2017/09/26/2017-09-26-09-35-02.jpg',\n",
        " 'https://cdn.pixabay.com/photo/2015/03/23/22/56/cat-686803_960_720.jpg',\n",
        " 'https://c.pxhere.com/photos/5d/d0/kitten_cat_cute_animal_kitty_pet_cat_s_eyes-600010.jpg!d',\n",
        " 'https://cdn.pixabay.com/photo/2014/01/15/04/41/cat-245365_1280.jpg',\n",
        " 'https://static.pexels.com/photos/97865/pexels-photo-97865.jpeg',\n",
        " 'https://cdn.pixabay.com/photo/2013/11/05/10/14/cat-205651_960_720.jpg',\n",
        " 'https://c.pxhere.com/photos/a2/7f/kitten_yawns_cute_blinked_pet_animals_cat_closeup-916678.jpg!d',\n",
        " 'https://c.pxhere.com/photos/5a/59/cat_black_white_portrait_domestic_cute_pet_feline-709883.jpg!d',\n",
        " 'https://p0.pikist.com/photos/133/813/cat-small-mackerel-kitten-domestic-cat-pet-cute-sweet-mieze.jpg',\n",
        " 'https://c.pxhere.com/photos/bb/4c/pet_cute_cat_kitten_chat_basket_lindo_gato-443642.jpg!d',\n",
        " 'https://c.pxhere.com/photos/f5/e7/ginger_cat_sleeping_pet_marmalade_animal_adorable_relax-1114403.jpg!d',\n",
        " 'https://c.pxhere.com/photos/99/9c/black_cat_scratching_posts_views_cat_cat_dreams_cat_is_pet_black-510603.jpg!d',\n",
        " 'https://cdn.pixabay.com/photo/2015/04/28/13/11/kitten-743520_960_720.jpg',\n",
        " 'https://pixnio.com/free-images/2017/09/26/2017-09-26-07-35-51.jpg',\n",
        " 'https://c2.staticflickr.com/8/7397/10980798024_9a0b269096_b.jpg',\n",
        " 'https://cdn.pixabay.com/photo/2016/12/08/16/09/cat-1892058_640.jpg',\n",
        " 'https://c.pxhere.com/photos/7d/ee/cat_tabby_profile_feline_pet_animal_outdoors_nature-984419.jpg!d',\n",
        " 'https://c.pxhere.com/photos/30/c8/cat_pet_feline_animal_macro_closeup_cute_sleeping-1201287.jpg!d',\n",
        " 'https://c1.peakpx.com/wallpaper/926/930/341/cat-young-cat-playful-puppy-pet-wallpaper-preview.jpg',\n",
        " 'https://pixnio.com/free-images/2017/03/13/2017-03-13-09-06-55-725x483.jpg',\n",
        " 'https://get.pxhere.com/photo/play-animal-cute-pet-fur-construction-kitten-cat-mammal-playing-pink-movement-close-nose-whiskers-fun-snout-adidas-head-skin-vertebrate-paws-cheeky-mieze-lying-curious-domestic-cat-mackerel-cat-face-young-cat-tiefensch-rfe-datailaufnahme-vigilant-interested-kratzbaum-cat-tree-small-to-medium-sized-cats-cat-like-mammal-beisen-962017.jpg',\n",
        " 'https://cdn.pixabay.com/photo/2015/08/10/04/59/pet-882450_960_720.jpg',\n",
        " 'https://cdn.pixabay.com/photo/2015/08/27/10/22/cat-909895_960_720.jpg',\n",
        " 'https://pixnio.com/free-images/2017/05/31/2017-05-31-23-34-18.jpg',\n",
        " 'https://c.pxhere.com/photos/69/79/cat_angry_black_feline_pet_aggressive_mammal_animal-1022252.jpg!d',\n",
        " 'https://i0.hippopx.com/photos/959/928/28/cat-feline-animal-animals-preview.jpg',\n",
        " 'https://c.pxhere.com/photos/b6/88/chat_cat_sherbrooke_quebec_canada-456096.jpg!d',\n",
        " 'https://www.maxpixel.net/static/photo/640/Mammal-Animal-Cat-Pet-Cute-3046623.jpg',\n",
        " 'https://www.maxpixel.net/static/photo/640/Kitten-Tabby-Domestic-Kitty-Pet-Feline-Cat-111793.jpg',\n",
        " 'https://www.maxpixel.net/static/photo/640/Kitten-Cat-Domestic-Cat-Pet-Mackerel-Close-Up-2276960.jpg',\n",
        " 'https://www.maxpixel.net/static/photo/640/Cat-Domestic-Cat-Mieze-Pet-Short-Hair-3401683.jpg',\n",
        " 'https://www.maxpixel.net/static/photo/640/Fur-Cat-Kitten-Pet-Animal-Friendship-Portrait-4097325.jpg',\n",
        " 'https://www.publicdomainpictures.net/pictures/170000/nahled/pet-cat-reclining.jpg',\n",
        " 'https://www.maxpixel.net/static/photo/640/A-Normal-Cat-Tomcat-Pet-Cat-Tabby-Kitten-Charming-1698392.jpg',\n",
        " 'https://c.pxhere.com/photos/3f/50/pet_cats_pets_nature_animal_animals_cat_persian-391949.jpg!d',\n",
        " 'https://4.bp.blogspot.com/-fZt-z1YT0ss/WMWklOyJdxI/AAAAAAAAuZU/wqKVVjOFYL0Hw7M4W-wspnnMP5YUc4EZgCLcB/s1600/148-Cat-LPS-1.jpg',\n",
        " 'https://c2.staticflickr.com/6/5544/10474850224_105fd1b4e1_b.jpg',\n",
        " 'https://c.pxhere.com/photos/32/73/persian_cats_persian_chinchilla_silver_shaded_hairy_cats_mainecoon_kitten_kittens_malai-457263.jpg!d',\n",
        " 'https://c.pxhere.com/photos/57/e5/kitten_cat_pet_feline_gata_animals_cat_face_cute-863034.jpg!d',\n",
        " \"https://upload.wikimedia.org/wikipedia/commons/4/47/A_'Pet_shop'_stud_cat_eating_hungrily_after_performing_its_'Professional_stud_duty'.jpg\",\n",
        " 'https://p2.piqsels.com/preview/255/146/439/nature-animal-animals-cat.jpg',\n",
        " 'https://c.pxhere.com/photos/8d/d9/cat_domestic_cat_animal_pet_mieze_white_lucky_cat-1049642.jpg!d',\n",
        " 'https://pixnio.com/free-images/2017/09/26/2017-09-26-09-42-15-1100x733.jpg',\n",
        " 'https://pixnio.com/free-images/2017/09/26/2017-09-26-07-40-56-850x547.jpg',\n",
        " 'https://c.pxhere.com/photos/45/43/animal_animal_photography_cat_close_up_feline_macro_pet_tortoiseshell_cat-1189772.jpg!d',\n",
        " \"https://c.pxhere.com/photos/1b/0f/cat_european_shorthair_cat_animals_adidas_domestic_cat_mackerel_cat's_eyes_head-746589.jpg!d\",\n",
        " 'https://www.maxpixel.net/static/photo/640/Pet-Mammal-Animal-Cat-Domestic-White-Cat-Feline-3308645.jpg',\n",
        " 'https://p1.pxfuel.com/preview/526/741/285/cat-black-cat-animal-feline-portrait-eyes.jpg',\n",
        " 'https://c.pxhere.com/photos/18/ad/cat_animal_pet_cat_face_head_domestic_cat_adidas_animal_world-990150.jpg!d',\n",
        " 'https://p0.piqsels.com/preview/26/192/38/animal-cat-cute-feline.jpg',\n",
        " 'https://www.maxpixel.net/static/photo/640/Pet-Cat-Eyes-Yellow-Feline-Kitty-Grey-Domestic-165068.jpg',\n",
        " 'https://cdn.pixabay.com/photo/2014/09/16/05/33/kitten-447802_960_720.jpg',\n",
        " 'https://pixnio.com/free-images/2017/09/26/2017-09-26-09-56-13-1100x733.jpg',\n",
        " 'https://www.maxpixel.net/static/photo/640/Pet-Cat-3261420.jpg',\n",
        " 'https://www.maxpixel.net/static/photo/640/Cat-Cute-Animal-Pet-Portrait-3168854.jpg',\n",
        " 'https://i.stack.imgur.com/NgysB.jpg',\n",
        " 'https://www.maxpixel.net/static/photo/640/Cat-Yellow-Pet-Kitten-Gray-Cute-Eyes-Animals-3385285.jpg',\n",
        " 'https://cdn.pixabay.com/photo/2015/03/17/18/21/cat-678095_960_720.jpg',\n",
        " 'https://www.maxpixel.net/static/photo/640/Tomcat-Kitten-Cat-Sitting-Cat-Domestic-Cat-Animal-3038252.jpg',\n",
        " 'https://cdn.pixabay.com/photo/2017/10/28/20/42/cat-2898061_960_720.jpg',\n",
        " 'https://pixnio.com/free-images/2017/09/26/2017-09-26-09-45-13-1100x733.jpg',\n",
        " 'https://c.pxhere.com/photos/ea/f3/scottish_fold_cats_silver_gradient_cat_animal_pets-1057434.jpg!d',\n",
        " 'https://pixnio.com/free-images/2017/09/26/2017-09-26-07-48-14-850x567.jpg',\n",
        " 'https://get.pxhere.com/photo/cute-kitten-cat-mammal-gray-pets-whiskers-paw-vertebrate-funny-upward-surrender-give-up-european-shorthair-russian-blue-british-short-wild-cat-small-to-medium-sized-cats-cat-like-mammal-domestic-short-haired-cat-pixie-bob-793712.jpg',\n",
        " 'https://c.pxhere.com/photos/a3/49/cat_look_feline_look_pet_feline_animal_animals_cat_face-794195.jpg!d',\n",
        " 'https://cdn.pixabay.com/photo/2014/01/14/01/38/cat-244060_960_720.jpg',\n",
        " 'https://cdn.pixabay.com/photo/2017/03/19/20/28/cat-2157496_960_720.jpg',\n",
        " 'https://2.bp.blogspot.com/-3PZ5QcTui2o/WMWk68VEMgI/AAAAAAAAukc/R9QJ0xUK6hgVtf1I9vkU2h43uFrvp3x5QCLcB/s800/336-Cat-Shorthair-LPS-1.jpg',\n",
        " 'https://cdn.pixabay.com/photo/2012/12/18/18/02/cat-70628_960_720.jpg',\n",
        " 'https://cdn.pixabay.com/photo/2015/08/31/14/32/cat-915543_960_720.jpg',\n",
        " 'https://1.bp.blogspot.com/-1hyaBxdep00/WMWkiTOZ5VI/AAAAAAAAuX0/0bXZHFYGBF4K0JvBFsceDVZmwZdIRfmGwCLcB/s800/126-Cat-Shorthair-LPS-1.jpg',\n",
        " 'https://cdn.pixabay.com/photo/2016/01/08/22/11/cat-1129371_960_720.jpg',\n",
        " 'https://pixnio.com/free-images/2017/09/26/2017-09-26-09-42-44-1100x733.jpg',\n",
        " 'https://www.maxpixel.net/static/photo/640/Cat-Domestic-Feline-Tabby-Kitten-Pet-Fur-Kitty-301720.jpg',\n",
        " 'https://c.pxhere.com/photos/42/27/cat_sleep_pet_animal_mieze_tiger_cat_rest_german_longhaired_pointer-485552.jpg!d',\n",
        " 'https://www.maxpixel.net/static/photo/640/Domestic-Grey-Animal-Kitten-Gray-Cute-Pet-Cat-2966064.jpg',\n",
        " 'https://c.pxhere.com/photos/f9/ae/cat_eyes_pet_animal_feline_kitten_domestic_cute-1055183.jpg!d',\n",
        " 'https://pixnio.com/free-images/2017/09/26/2017-09-26-09-33-32.jpg',\n",
        " 'https://cdn.pixabay.com/photo/2014/04/11/22/40/kitten-322060_960_720.jpg',\n",
        " 'https://cdn.pixabay.com/photo/2017/03/20/17/56/cat-2159840_960_720.jpg',\n",
        " 'https://www.maxpixel.net/static/photo/640/Lay-Sat-Pet-Gel-Reviews-Cat-Mia-Cuteness-Cat-1264257.jpg',\n",
        " 'https://c.pxhere.com/photos/8b/c9/cat_animal_rest_pet_face_tired-1223970.jpg!d',\n",
        " 'https://c.pxhere.com/photos/ae/2d/british_shorthair_lilac_grey_cat_easter_bellis_flowers_pet-643270.jpg!d',\n",
        " 'https://pixnio.com/free-images/2017/03/08/2017-03-08-11-10-24.jpg',\n",
        " 'https://c.pxhere.com/photos/5a/a6/cats_pets_kodak-138818.jpg!d',\n",
        " 'https://c.pxhere.com/photos/89/21/animal_black_and_white_cat_feline_kitten_mammal_pet_whiskers-1054146.jpg!d',\n",
        " 'https://cdn.pixabay.com/photo/2014/09/18/20/17/cat-451377_1280.jpg',\n",
        " 'https://c.pxhere.com/photos/ed/45/cat_animal_pet_cat_s_eyes_mackerel_fur-538133.jpg!s',\n",
        " 'https://cdn.pixabay.com/photo/2016/05/18/20/57/cat-1401557_960_720.jpg',\n",
        " 'https://cdn.pixabay.com/photo/2017/06/03/01/04/cat-2367692_960_720.jpg',\n",
        " 'https://c1.wallpaperflare.com/preview/348/686/374/cat-feline-pet-fur.jpg',\n",
        " 'https://c.pxhere.com/photos/16/fe/cat_pussy_cat_profile_grey_beige_domestic_animal_feline_pet_animal-484423.jpg!d',\n",
        " 'https://get.pxhere.com/photo/white-animal-cute-pet-fur-portrait-cat-studio-feline-mammal-cats-whiskers-three-vertebrate-domestic-adorable-siberian-maine-coon-purebred-norwegian-forest-cat-small-to-medium-sized-cats-cat-like-mammal-domestic-short-haired-cat-domestic-long-haired-cat-maine-coon-cats-922519.jpg',\n",
        " 'https://cdn.pixabay.com/photo/2016/02/25/23/17/cat-1223188_960_720.jpg',\n",
        " 'https://cdn.pixabay.com/photo/2015/05/24/12/03/cat-781678_960_720.jpg',\n",
        " \"https://get.pxhere.com/photo/grass-cute-pet-fur-green-kitten-cat-mammal-fauna-cats-whiskers-grey-animals-vertebrate-siberian-cat-eyes-persian-cat's-eye-norwegian-forest-cat-fluffy-cat-wild-cat-small-to-medium-sized-cats-cat-like-mammal-carnivoran-nebelung-domestic-short-haired-cat-domestic-long-haired-cat-british-semi-longhair-1012084.jpg\",\n",
        " \"https://c.pxhere.com/photos/1f/e2/gata_cat_feline_look_kitten_tuned_feline_stopped_pet_cat's_eyes-791640.jpg!s\"]\n"
      ]
    },
    {
      "cell_type": "code",
      "execution_count": null,
      "metadata": {
        "id": "pcsLLtlh_0ZY"
      },
      "outputs": [],
      "source": [
        "download_images(cats_photo_links, \"photos/cats/\", \"cat\")"
      ]
    },
    {
      "cell_type": "code",
      "execution_count": null,
      "metadata": {
        "id": "sHN9W3Iv0Dxs"
      },
      "outputs": [],
      "source": [
        "classes_num = 2"
      ]
    },
    {
      "cell_type": "code",
      "execution_count": null,
      "metadata": {
        "id": "HY6jzeAmEhvy"
      },
      "outputs": [],
      "source": [
        "# filtering and deleting very small files\n",
        "for path, subdirs, files in os.walk(\"photos\"):\n",
        "    for name in files:\n",
        "      file = os.path.join(path, name)\n",
        "      if os.path.getsize(file) < 8 * 1024:\n",
        "        os.remove(file)"
      ]
    },
    {
      "cell_type": "markdown",
      "metadata": {
        "id": "NXUX-Kt1MyzE"
      },
      "source": [
        "## Part 02 - Model Training"
      ]
    },
    {
      "cell_type": "code",
      "execution_count": null,
      "metadata": {
        "id": "UQdxiM0jgorp"
      },
      "outputs": [],
      "source": [
        "import torch\n",
        "import torch.nn as nn\n",
        "import torch.optim as optim\n",
        "import torchvision\n",
        "from torchvision import transforms\n",
        "from torch.utils.data import DataLoader"
      ]
    },
    {
      "cell_type": "markdown",
      "metadata": {
        "id": "Go5KVMtGMyzE"
      },
      "source": [
        "### Data Pre-processing"
      ]
    },
    {
      "cell_type": "code",
      "execution_count": null,
      "metadata": {
        "id": "5PoxN2_6gmKD"
      },
      "outputs": [],
      "source": [
        "data_transforms = transforms.Compose([\n",
        "    transforms.Resize((224, 224)),\n",
        "    transforms.ToTensor(),\n",
        "    transforms.Normalize(mean=[0.485, 0.456, 0.406], std=[0.229, 0.224, 0.225])\n",
        "])\n",
        "\n",
        "dataset = torchvision.datasets.ImageFolder(\"./photos\", transform=data_transforms)\n",
        "train_size = int(0.8 * len(dataset))\n",
        "val_size = len(dataset) - train_size\n",
        "\n",
        "train_data, val_data = torch.utils.data.random_split(dataset, [train_size, val_size])\n",
        "\n",
        "train_loader = DataLoader(train_data, batch_size=64, shuffle=True)\n",
        "val_loader = DataLoader(val_data, batch_size=64)\n"
      ]
    },
    {
      "cell_type": "code",
      "source": [
        "val_size"
      ],
      "metadata": {
        "id": "Fr_hPVlb7sQG",
        "outputId": "890f4de9-8982-4632-fdfe-ca5a799b3e50",
        "colab": {
          "base_uri": "https://localhost:8080/"
        }
      },
      "execution_count": null,
      "outputs": [
        {
          "output_type": "execute_result",
          "data": {
            "text/plain": [
              "64"
            ]
          },
          "metadata": {},
          "execution_count": 15
        }
      ]
    },
    {
      "cell_type": "code",
      "source": [
        "len(dataset)"
      ],
      "metadata": {
        "id": "jNNEfWqW7tve",
        "outputId": "bb274094-9e8f-4c7e-dc4c-06da39d7d6af",
        "colab": {
          "base_uri": "https://localhost:8080/"
        }
      },
      "execution_count": null,
      "outputs": [
        {
          "output_type": "execute_result",
          "data": {
            "text/plain": [
              "316"
            ]
          },
          "metadata": {},
          "execution_count": 16
        }
      ]
    },
    {
      "cell_type": "code",
      "source": [
        "train_size"
      ],
      "metadata": {
        "id": "XXlToKYl7wYZ",
        "outputId": "bd36dbb2-a350-4cba-92d2-6764c6b92969",
        "colab": {
          "base_uri": "https://localhost:8080/"
        }
      },
      "execution_count": null,
      "outputs": [
        {
          "output_type": "execute_result",
          "data": {
            "text/plain": [
              "252"
            ]
          },
          "metadata": {},
          "execution_count": 30
        }
      ]
    },
    {
      "cell_type": "markdown",
      "metadata": {
        "id": "_WKdbJZGMyzE"
      },
      "source": [
        "### Loading Resnet Pre-trained Image Model\n",
        "\n",
        "ResNet-18 is a convolutional neural network that is 18 layers deep. You can load a pretrained version of the network trained on more than a million images from the ImageNet database [1]. The pretrained network can classify images into 1000 object categories, such as keyboard, mouse, pencil, and many animals."
      ]
    },
    {
      "cell_type": "code",
      "source": [
        "mlflow.start_run()"
      ],
      "metadata": {
        "id": "8hVbhUxa_idi",
        "outputId": "85d7eb11-58c6-4f64-bd00-888585bd4f10",
        "colab": {
          "base_uri": "https://localhost:8080/"
        }
      },
      "execution_count": null,
      "outputs": [
        {
          "output_type": "execute_result",
          "data": {
            "text/plain": [
              "<ActiveRun: >"
            ]
          },
          "metadata": {},
          "execution_count": 31
        }
      ]
    },
    {
      "cell_type": "code",
      "execution_count": null,
      "metadata": {
        "id": "BXB-C4sBgmAC"
      },
      "outputs": [],
      "source": [
        "model = torchvision.models.resnet18(pretrained=True)\n",
        "num_features = model.fc.in_features\n",
        "model.fc = nn.Linear(num_features, classes_num)"
      ]
    },
    {
      "cell_type": "markdown",
      "metadata": {
        "id": "jU7xstBnMyzE"
      },
      "source": [
        "### Model Tuning to Classify cats and Dogs"
      ]
    },
    {
      "cell_type": "code",
      "execution_count": null,
      "metadata": {
        "id": "ru5DIciEg6bV"
      },
      "outputs": [],
      "source": [
        "lr = 0.003\n",
        "momentum = 0.9\n",
        "criterion = nn.CrossEntropyLoss()\n",
        "optimizer = optim.SGD(model.parameters(), lr, momentum=momentum)"
      ]
    },
    {
      "cell_type": "markdown",
      "metadata": {
        "id": "wzCwwEmXmrWp"
      },
      "source": []
    },
    {
      "cell_type": "code",
      "execution_count": null,
      "metadata": {
        "colab": {
          "base_uri": "https://localhost:8080/"
        },
        "id": "Av5rPeVANjMV",
        "outputId": "702319c8-4d86-4270-f76a-b29a3f85a3fc"
      },
      "outputs": [
        {
          "output_type": "stream",
          "name": "stdout",
          "text": [
            "Epoch 1, Loss: 0.5344704166054726\n",
            "Validation Accuracy: 87.50%\n",
            "Epoch 2, Loss: 0.23193295300006866\n",
            "Validation Accuracy: 96.88%\n",
            "Epoch 3, Loss: 0.08616329170763493\n",
            "Validation Accuracy: 96.88%\n"
          ]
        }
      ],
      "source": [
        "num_epochs = 3\n",
        "# device = torch.device(\"cuda\" if torch.cuda.is_available() else \"cpu\")\n",
        "device = torch.device(\"cpu\")\n",
        "model.to(device)\n",
        "\n",
        "for epoch in range(num_epochs):\n",
        "    model.train()\n",
        "    running_loss = 0.0\n",
        "    for inputs, labels in train_loader:\n",
        "        inputs, labels = inputs.to(device), labels.to(device)\n",
        "\n",
        "        optimizer.zero_grad()\n",
        "        outputs = model(inputs)\n",
        "        loss = criterion(outputs, labels)\n",
        "        loss.backward()\n",
        "        optimizer.step()\n",
        "\n",
        "        running_loss += loss.item()\n",
        "\n",
        "    avg_loss = running_loss / len(train_loader)\n",
        "    print(f\"Epoch {epoch + 1}, Loss: {avg_loss}\")\n",
        "\n",
        "\n",
        "    # Validation\n",
        "    model.eval()\n",
        "    correct = 0\n",
        "    total = 0\n",
        "    with torch.no_grad():\n",
        "        for inputs, labels in val_loader:\n",
        "            inputs, labels = inputs.to(device), labels.to(device)\n",
        "            outputs = model(inputs)\n",
        "            _, predicted = torch.max(outputs, 1)\n",
        "            total += labels.size(0)\n",
        "            correct += (predicted == labels).sum().item()\n",
        "\n",
        "    accuracy = 100 * correct / total\n",
        "    print(f\"Validation Accuracy: {accuracy:.2f}%\")\n"
      ]
    },
    {
      "cell_type": "markdown",
      "metadata": {
        "id": "Eh1YHQc4MyzE"
      },
      "source": [
        "### Logging into MLFlow"
      ]
    },
    {
      "cell_type": "code",
      "execution_count": null,
      "metadata": {
        "colab": {
          "base_uri": "https://localhost:8080/"
        },
        "id": "qR85f-VkokNl",
        "outputId": "b6220bb9-2650-469a-a090-a90e1708d89b"
      },
      "outputs": [
        {
          "output_type": "stream",
          "name": "stderr",
          "text": [
            "2023/11/11 11:02:51 WARNING mlflow.utils.requirements_utils: Found torch version (2.1.0+cu118) contains a local version label (+cu118). MLflow logged a pip requirement for this package as 'torch==2.1.0' without the local version label to make it installable from PyPI. To specify pip requirements containing local version labels, please use `conda_env` or `pip_requirements`.\n",
            "2023/11/11 11:02:56 WARNING mlflow.utils.requirements_utils: Found torchvision version (0.16.0+cu118) contains a local version label (+cu118). MLflow logged a pip requirement for this package as 'torchvision==0.16.0' without the local version label to make it installable from PyPI. To specify pip requirements containing local version labels, please use `conda_env` or `pip_requirements`.\n"
          ]
        }
      ],
      "source": [
        "# Save the model as an MLflow artifact\n",
        "mlflow.log_params({\"num_epochs\": num_epochs})\n",
        "mlflow.log_params({\"lr\": lr})\n",
        "mlflow.log_params({\"momentum\": momentum})\n",
        "mlflow.pytorch.log_model(model, \"cat_dog_resnet_model\")\n",
        "mlflow.log_metric(\"val_accuracy\", accuracy, step=epoch)\n",
        "mlflow.log_metric(\"train_loss\", avg_loss, step=epoch)"
      ]
    },
    {
      "cell_type": "code",
      "source": [
        "mlflow.end_run()"
      ],
      "metadata": {
        "id": "cqioRG65VwDt"
      },
      "execution_count": null,
      "outputs": []
    }
  ],
  "metadata": {
    "colab": {
      "provenance": []
    },
    "kernelspec": {
      "display_name": "Python 3",
      "name": "python3"
    },
    "language_info": {
      "name": "python"
    }
  },
  "nbformat": 4,
  "nbformat_minor": 0
}